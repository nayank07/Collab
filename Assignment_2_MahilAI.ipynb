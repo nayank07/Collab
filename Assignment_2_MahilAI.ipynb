{
  "nbformat": 4,
  "nbformat_minor": 0,
  "metadata": {
    "colab": {
      "name": "Assignment_2_MahilAI.ipynb",
      "provenance": [],
      "collapsed_sections": []
    },
    "kernelspec": {
      "name": "python3",
      "display_name": "Python 3"
    },
    "language_info": {
      "name": "python"
    }
  },
  "cells": [
    {
      "cell_type": "markdown",
      "metadata": {
        "id": "L7zTihXQcHpb"
      },
      "source": [
        "**MNIST** Data Set is Used.\n",
        "\n",
        "\n",
        "*   It Consists of Handwritten Numbers from 0- 9\n",
        "*   28*28 Gray scale Images\n",
        "\n"
      ]
    },
    {
      "cell_type": "code",
      "metadata": {
        "id": "s3TWAbj0cNWN"
      },
      "source": [
        "# Importing of Tensor Flow and MNSIT Number Data Set\n",
        "import tensorflow as tf\n",
        "from tensorflow.keras.datasets import mnist"
      ],
      "execution_count": 1,
      "outputs": []
    },
    {
      "cell_type": "code",
      "metadata": {
        "colab": {
          "base_uri": "https://localhost:8080/"
        },
        "id": "95yHgv4actSS",
        "outputId": "e28c9740-304c-4820-e280-9d547a0c3efa"
      },
      "source": [
        "# Loading the Data of Training Set\n",
        "(X_train, y_train), (X_test, y_test) = mnist.load_data()"
      ],
      "execution_count": 3,
      "outputs": [
        {
          "output_type": "stream",
          "text": [
            "Downloading data from https://storage.googleapis.com/tensorflow/tf-keras-datasets/mnist.npz\n",
            "11493376/11490434 [==============================] - 0s 0us/step\n"
          ],
          "name": "stdout"
        }
      ]
    },
    {
      "cell_type": "code",
      "metadata": {
        "colab": {
          "base_uri": "https://localhost:8080/",
          "height": 282
        },
        "id": "l8Y1xmWcc68Q",
        "outputId": "24f7bd63-c854-45f2-a858-44b0d223138c"
      },
      "source": [
        "# Example Image to Show Images in Considered Data Set\n",
        "import matplotlib.pyplot as plt\n",
        "plt.imshow(X_train[0], cmap = plt.cm.binary)"
      ],
      "execution_count": 4,
      "outputs": [
        {
          "output_type": "execute_result",
          "data": {
            "text/plain": [
              "<matplotlib.image.AxesImage at 0x7f21555fa490>"
            ]
          },
          "metadata": {
            "tags": []
          },
          "execution_count": 4
        },
        {
          "output_type": "display_data",
          "data": {
            "image/png": "[encoded data removed]",
            "text/plain": [
              "<Figure size 432x288 with 1 Axes>"
            ]
          },
          "metadata": {
            "tags": [],
            "needs_background": "light"
          }
        }
      ]
    },
    {
      "cell_type": "markdown",
      "metadata": {
        "id": "FXNC-NONpCO2"
      },
      "source": [
        "we divide each image by the maximum number of pixels(255) so that the image range will be between 0 and 1"
      ]
    },
    {
      "cell_type": "code",
      "metadata": {
        "id": "gN_rVke9pEUN"
      },
      "source": [
        "X_train = X_train/255.0\n",
        "X_test = X_test/255.0"
      ],
      "execution_count": 5,
      "outputs": []
    },
    {
      "cell_type": "markdown",
      "metadata": {
        "id": "i9BquroXpYEV"
      },
      "source": [
        "- We will get a 2d array as an output in which the first dimension corresponds to the index of the image and second dimension will be the vector containing all the pixels of the image\n",
        "- we will change the two-dimensional array into the One-dimensional vector using reshaping"
      ]
    },
    {
      "cell_type": "code",
      "metadata": {
        "id": "GkYpjyoMpYyl"
      },
      "source": [
        "X_train = X_train.reshape(-1, 28*28)\n",
        "X_test = X_test.reshape(-1, 28*28)"
      ],
      "execution_count": 6,
      "outputs": []
    },
    {
      "cell_type": "code",
      "metadata": {
        "id": "z02ZlIkDp_Ud"
      },
      "source": [
        "model = tf.keras.models.Sequential()"
      ],
      "execution_count": 7,
      "outputs": []
    },
    {
      "cell_type": "code",
      "metadata": {
        "id": "mxyoXjI-qAHd"
      },
      "source": [
        "model.add(tf.keras.layers.Dense(units = 128, activation = 'relu', input_shape = (784,)))"
      ],
      "execution_count": 8,
      "outputs": []
    },
    {
      "cell_type": "markdown",
      "metadata": {
        "id": "QTzjU64RqFKk"
      },
      "source": [
        "- Code given above means that the output of this operation should have 128 neurons in which we apply the ReLU activation function to break the linearity \n",
        "- the input_shape is (784, ). We add all these hyperparameters using the model.add() method."
      ]
    },
    {
      "cell_type": "markdown",
      "metadata": {
        "id": "JKrO1EhMqSf8"
      },
      "source": [
        "Given below is a Regularization technique where we randomly set neurons in a layer to zero."
      ]
    },
    {
      "cell_type": "code",
      "metadata": {
        "id": "KpyT1GKGqPkk"
      },
      "source": [
        "model.add(tf.keras.layers.Dropout(0.2))"
      ],
      "execution_count": 9,
      "outputs": []
    },
    {
      "cell_type": "markdown",
      "metadata": {
        "id": "XPVGOvymqZ2V"
      },
      "source": [
        "Adding Output layer\n",
        "- units =number of classes (10 in the case of Fashion MNIST)\n",
        "- activation = softmax(Returns probability of the class)"
      ]
    },
    {
      "cell_type": "code",
      "metadata": {
        "id": "MUSLeWGhqX4N"
      },
      "source": [
        "model.add(tf.keras.layers.Dense(units = 10, activation = 'softmax'))"
      ],
      "execution_count": 10,
      "outputs": []
    },
    {
      "cell_type": "code",
      "metadata": {
        "id": "uGTEF3h3qi69"
      },
      "source": [
        "model.compile(optimizer = 'adam', loss = 'sparse_categorical_crossentropy', metrics = ['sparse_categorical_accuracy'])"
      ],
      "execution_count": 11,
      "outputs": []
    },
    {
      "cell_type": "code",
      "metadata": {
        "colab": {
          "base_uri": "https://localhost:8080/"
        },
        "id": "_ABprOWiqkVt",
        "outputId": "b99c6441-0275-4001-800d-92ffe1b94f53"
      },
      "source": [
        "model.fit(X_train, y_train, epochs =5)"
      ],
      "execution_count": 12,
      "outputs": [
        {
          "output_type": "stream",
          "text": [
            "Epoch 1/5\n",
            "1875/1875 [==============================] - 4s 2ms/step - loss: 0.2985 - sparse_categorical_accuracy: 0.9142\n",
            "Epoch 2/5\n",
            "1875/1875 [==============================] - 4s 2ms/step - loss: 0.1448 - sparse_categorical_accuracy: 0.9575\n",
            "Epoch 3/5\n",
            "1875/1875 [==============================] - 4s 2ms/step - loss: 0.1067 - sparse_categorical_accuracy: 0.9683\n",
            "Epoch 4/5\n",
            "1875/1875 [==============================] - 4s 2ms/step - loss: 0.0883 - sparse_categorical_accuracy: 0.9727\n",
            "Epoch 5/5\n",
            "1875/1875 [==============================] - 4s 2ms/step - loss: 0.0760 - sparse_categorical_accuracy: 0.9758\n"
          ],
          "name": "stdout"
        },
        {
          "output_type": "execute_result",
          "data": {
            "text/plain": [
              "<tensorflow.python.keras.callbacks.History at 0x7f2151885dd0>"
            ]
          },
          "metadata": {
            "tags": []
          },
          "execution_count": 12
        }
      ]
    },
    {
      "cell_type": "code",
      "metadata": {
        "colab": {
          "base_uri": "https://localhost:8080/"
        },
        "id": "zg-ZUyL5qpQE",
        "outputId": "2c126233-b13e-48f1-ae65-ab991495fdf7"
      },
      "source": [
        "test_loss, test_accuracy = model.evaluate(X_test, y_test)\n",
        "print(test_accuracy)"
      ],
      "execution_count": 13,
      "outputs": [
        {
          "output_type": "stream",
          "text": [
            "313/313 [==============================] - 1s 1ms/step - loss: 0.0720 - sparse_categorical_accuracy: 0.9777\n",
            "0.9776999950408936\n"
          ],
          "name": "stdout"
        }
      ]
    },
    {
      "cell_type": "code",
      "metadata": {
        "id": "RgFrvX1Idmyp"
      },
      "source": [
        ""
      ],
      "execution_count": null,
      "outputs": []
    }
  ]
}